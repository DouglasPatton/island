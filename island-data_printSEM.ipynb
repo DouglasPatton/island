{
 "cells": [
  {
   "cell_type": "markdown",
   "metadata": {
    "slideshow": {
     "slide_type": "slide"
    }
   },
   "source": [
    "## Long Island Hedonic Analysis - Draft\n",
    "### Visualizing the data\n",
    "#### created by Doug Patton\n",
    "<br>\n",
    "If you run the notebook with matplotlib widgets turned on (and installed), you can rotate and zoom in on the 3d plots. "
   ]
  },
  {
   "cell_type": "code",
   "execution_count": 1,
   "metadata": {
    "slideshow": {
     "slide_type": "fragment"
    }
   },
   "outputs": [],
   "source": [
    "import island"
   ]
  },
  {
   "cell_type": "code",
   "execution_count": 2,
   "metadata": {},
   "outputs": [],
   "source": [
    "import numpy as np\n",
    "import pandas as pd"
   ]
  },
  {
   "cell_type": "code",
   "execution_count": 3,
   "metadata": {
    "jupyter": {
     "source_hidden": true
    }
   },
   "outputs": [],
   "source": [
    "#from importlib import reload  \n",
    "#reload(island)"
   ]
  },
  {
   "cell_type": "code",
   "execution_count": 4,
   "metadata": {
    "slideshow": {
     "slide_type": "fragment"
    }
   },
   "outputs": [],
   "source": [
    "%matplotlib inline\n",
    "#may be necessary to display plots inline on some systems\n",
    "#%pylab #interactive graphs in external window\n",
    "#%matplotlib widget #makes graphs interactive inline"
   ]
  },
  {
   "cell_type": "code",
   "execution_count": 5,
   "metadata": {
    "slideshow": {
     "slide_type": "fragment"
    }
   },
   "outputs": [],
   "source": [
    "idata_obj=island.IslandData()"
   ]
  },
  {
   "cell_type": "code",
   "execution_count": 6,
   "metadata": {},
   "outputs": [],
   "source": [
    "#idata_obj.getDataFromCSV() # run once"
   ]
  },
  {
   "cell_type": "code",
   "execution_count": 7,
   "metadata": {
    "jupyter": {
     "source_hidden": true
    },
    "slideshow": {
     "slide_type": "skip"
    }
   },
   "outputs": [],
   "source": [
    "#idata_obj.doCSVToDict() # run once"
   ]
  },
  {
   "cell_type": "code",
   "execution_count": 8,
   "metadata": {},
   "outputs": [],
   "source": [
    "idata_obj.makeTimeListArrayList()"
   ]
  },
  {
   "cell_type": "code",
   "execution_count": 9,
   "metadata": {},
   "outputs": [],
   "source": [
    "#create new real version for each dollar variable using the CPI\n",
    "baseyear=2015\n",
    "idata_obj.addRealByCPI(to_year=baseyear)\n"
   ]
  },
  {
   "cell_type": "code",
   "execution_count": 10,
   "metadata": {},
   "outputs": [],
   "source": [
    "idata_obj.arrayListToPandasDF()"
   ]
  },
  {
   "cell_type": "code",
   "execution_count": 11,
   "metadata": {},
   "outputs": [],
   "source": [
    "#idata_obj.justMakeWeights()"
   ]
  },
  {
   "cell_type": "code",
   "execution_count": 12,
   "metadata": {},
   "outputs": [],
   "source": [
    "#resultslistlist=idata_obj.runSpatialModel()"
   ]
  },
  {
   "cell_type": "code",
   "execution_count": 13,
   "metadata": {},
   "outputs": [
    {
     "data": {
      "text/plain": [
       "[<spreg.ml_error.ML_Error at 0x7f3600fc1ad0>,\n",
       " <spreg.ml_error.ML_Error at 0x7f35c6ceb450>,\n",
       " <spreg.ml_error.ML_Error at 0x7f35c6ceb510>,\n",
       " <spreg.ml_error.ML_Error at 0x7f35c6ceb5d0>,\n",
       " <spreg.ml_error.ML_Error at 0x7f35c6ceb710>,\n",
       " <spreg.ml_error.ML_Error at 0x7f35c6ceb7d0>]"
      ]
     },
     "execution_count": 13,
     "metadata": {},
     "output_type": "execute_result"
    }
   ],
   "source": [
    "idata_obj.saveSpatialModelResults([],load=1) #created in non anaconda python3.6 env with pysal 2.2"
   ]
  },
  {
   "cell_type": "code",
   "execution_count": 14,
   "metadata": {},
   "outputs": [],
   "source": [
    "idata_obj.printSEMResults()"
   ]
  }
 ],
 "metadata": {
  "kernelspec": {
   "display_name": "Python 3",
   "language": "python",
   "name": "python3"
  },
  "language_info": {
   "codemirror_mode": {
    "name": "ipython",
    "version": 3
   },
   "file_extension": ".py",
   "mimetype": "text/x-python",
   "name": "python",
   "nbconvert_exporter": "python",
   "pygments_lexer": "ipython3",
   "version": "3.7.6"
  }
 },
 "nbformat": 4,
 "nbformat_minor": 4
}
