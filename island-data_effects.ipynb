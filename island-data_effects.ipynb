{
 "cells": [
  {
   "cell_type": "markdown",
   "metadata": {
    "slideshow": {
     "slide_type": "slide"
    }
   },
   "source": [
    "## Long Island Hedonic Analysis - Draft\n",
    "### Visualizing the data\n",
    "#### created by Doug Patton\n",
    "<br>\n",
    "If you run the notebook with matplotlib widgets turned on (and installed), you can rotate and zoom in on the 3d plots. "
   ]
  },
  {
   "cell_type": "code",
   "execution_count": 1,
   "metadata": {
    "slideshow": {
     "slide_type": "fragment"
    }
   },
   "outputs": [],
   "source": [
    "import island"
   ]
  },
  {
   "cell_type": "code",
   "execution_count": 2,
   "metadata": {},
   "outputs": [],
   "source": [
    "import numpy as np\n",
    "import pandas as pd"
   ]
  },
  {
   "cell_type": "code",
   "execution_count": 3,
   "metadata": {},
   "outputs": [],
   "source": [
    "#from importlib import reload  \n",
    "#reload(island)"
   ]
  },
  {
   "cell_type": "code",
   "execution_count": 4,
   "metadata": {
    "slideshow": {
     "slide_type": "fragment"
    }
   },
   "outputs": [],
   "source": [
    "%matplotlib inline\n",
    "#may be necessary to display plots inline on some systems\n",
    "#%pylab #interactive graphs in external window\n",
    "#%matplotlib widget #makes graphs interactive inline"
   ]
  },
  {
   "cell_type": "code",
   "execution_count": 5,
   "metadata": {
    "slideshow": {
     "slide_type": "fragment"
    }
   },
   "outputs": [],
   "source": [
    "idata_obj=island.IslandData()"
   ]
  },
  {
   "cell_type": "code",
   "execution_count": null,
   "metadata": {},
   "outputs": [],
   "source": []
  },
  {
   "cell_type": "code",
   "execution_count": 6,
   "metadata": {},
   "outputs": [],
   "source": [
    "#idata_obj.getDataFromCSV() # run once"
   ]
  },
  {
   "cell_type": "code",
   "execution_count": 7,
   "metadata": {
    "slideshow": {
     "slide_type": "skip"
    }
   },
   "outputs": [],
   "source": [
    "#idata_obj.doCSVToDict() # run once"
   ]
  },
  {
   "cell_type": "code",
   "execution_count": 8,
   "metadata": {},
   "outputs": [],
   "source": [
    "idata_obj.makeTimeListArrayList()"
   ]
  },
  {
   "cell_type": "code",
   "execution_count": 9,
   "metadata": {},
   "outputs": [],
   "source": [
    "#create new real version for each dollar variable using the CPI\n",
    "baseyear=2015\n",
    "idata_obj.addRealByCPI(to_year=baseyear)\n"
   ]
  },
  {
   "cell_type": "code",
   "execution_count": 10,
   "metadata": {},
   "outputs": [],
   "source": [
    "idata_obj.arrayListToPandasDF()"
   ]
  },
  {
   "cell_type": "code",
   "execution_count": 11,
   "metadata": {},
   "outputs": [],
   "source": [
    "idata_obj.doDistanceVars()"
   ]
  },
  {
   "cell_type": "code",
   "execution_count": 12,
   "metadata": {},
   "outputs": [],
   "source": [
    "#idata_obj.justMakeWeights()"
   ]
  },
  {
   "cell_type": "code",
   "execution_count": 13,
   "metadata": {},
   "outputs": [
    {
     "data": {
      "text/plain": [
       "\"for scope in ['year']:\\n    for est in ['OLS'];#,'GM_Error_Het']:\\n        idata_obj.modeldict['modeltype']=est\\n        idata_obj.modeldict['NNscope']=scope\\n        idata_obj.runModel()\""
      ]
     },
     "execution_count": 13,
     "metadata": {},
     "output_type": "execute_result"
    }
   ],
   "source": [
    "'''for scope in ['year']:\n",
    "    for est in ['OLS'];#,'GM_Error_Het']:\n",
    "        idata_obj.modeldict['modeltype']=est\n",
    "        idata_obj.modeldict['NNscope']=scope\n",
    "        idata_obj.runModel()'''"
   ]
  },
  {
   "cell_type": "code",
   "execution_count": 16,
   "metadata": {},
   "outputs": [
    {
     "name": "stdout",
     "output_type": "stream",
     "text": [
      "annual_dist_avg_effects for period-0, r=0.03 bayfront                             3064.029324\n",
      "Distance to Shoreline 0m-50m          581.664928\n",
      "Distance to Shoreline 50m-75m         515.813699\n",
      "Distance to Shoreline 75m-100m        446.760425\n",
      "Distance to Shoreline 100m-150m       265.578553\n",
      "Distance to Shoreline 150m-200m       159.078398\n",
      "Distance to Shoreline 200m-300m       388.305620\n",
      "Distance to Shoreline 300m-400m       282.814580\n",
      "Distance to Shoreline 400m-600m       238.829122\n",
      "Distance to Shoreline 600m-800m        27.169955\n",
      "Distance to Shoreline 800m-1200m      186.908186\n",
      "Distance to Shoreline 1200m-1600m     228.721443\n",
      "Distance to Shoreline 1600m-3200m     224.988365\n",
      "Distance to Shoreline 3200m-4000m     489.817405\n",
      "Name: effect, dtype: float64\n",
      "weighted grand average effect for p-0, r=0.03, 295.6132502300265\n",
      "annual_dist_avg_effects for period-1, r=0.03 bayfront                             2966.892624\n",
      "Distance to Shoreline 0m-50m         1235.502166\n",
      "Distance to Shoreline 50m-75m         673.390191\n",
      "Distance to Shoreline 75m-100m        255.744536\n",
      "Distance to Shoreline 100m-150m        67.464717\n",
      "Distance to Shoreline 150m-200m      -343.795304\n",
      "Distance to Shoreline 200m-300m       340.011433\n",
      "Distance to Shoreline 300m-400m       673.347181\n",
      "Distance to Shoreline 400m-600m       164.165303\n",
      "Distance to Shoreline 600m-800m       -82.967319\n",
      "Distance to Shoreline 800m-1200m      160.389126\n",
      "Distance to Shoreline 1200m-1600m      18.892700\n",
      "Distance to Shoreline 1600m-3200m     -93.190345\n",
      "Distance to Shoreline 3200m-4000m     461.021598\n",
      "Name: effect, dtype: float64\n",
      "weighted grand average effect for p-1, r=0.03, 166.58682788443718\n"
     ]
    }
   ],
   "source": [
    "_,__=idata_obj.estimateWQEffects()"
   ]
  },
  {
   "cell_type": "code",
   "execution_count": 15,
   "metadata": {},
   "outputs": [
    {
     "name": "stdout",
     "output_type": "stream",
     "text": [
      "grand average effect period-0, 8420.241261557174 at r=0.03, 252.6072378467152\n",
      "targetdf type: <class 'pandas.core.frame.DataFrame'>\n",
      "dist_avg_effects for period-0                                        effect_p0  d_count\n",
      "bayfront                           102134.310786      145\n",
      "wateraccess                         19984.900501      967\n",
      "Distance to Shoreline 0m-50m        19388.830930      368\n",
      "Distance to Shoreline 50m-75m       17193.789976      842\n",
      "Distance to Shoreline 75m-100m      14892.014172      792\n",
      "Distance to Shoreline 100m-150m      8852.618429     1390\n",
      "Distance to Shoreline 150m-200m      5302.613270     1189\n",
      "Distance to Shoreline 200m-300m     12943.520655     2001\n",
      "Distance to Shoreline 300m-400m      9427.152656     1562\n",
      "Distance to Shoreline 400m-600m      7960.970737     2212\n",
      "Distance to Shoreline 600m-800m       905.665181     1755\n",
      "Distance to Shoreline 800m-1200m     6230.272877     2640\n",
      "Distance to Shoreline 1200m-1600m    7624.048116     2025\n",
      "Distance to Shoreline 1600m-3200m    7499.612150     8545\n",
      "Distance to Shoreline 3200m-4000m    2733.587273     3407\n",
      "annual_dist_avg_effects for period-0, r=0.03                                      effect_p0  d_count\n",
      "bayfront                           3064.029324     4.35\n",
      "wateraccess                         599.547015    29.01\n",
      "Distance to Shoreline 0m-50m        581.664928    11.04\n",
      "Distance to Shoreline 50m-75m       515.813699    25.26\n",
      "Distance to Shoreline 75m-100m      446.760425    23.76\n",
      "Distance to Shoreline 100m-150m     265.578553    41.70\n",
      "Distance to Shoreline 150m-200m     159.078398    35.67\n",
      "Distance to Shoreline 200m-300m     388.305620    60.03\n",
      "Distance to Shoreline 300m-400m     282.814580    46.86\n",
      "Distance to Shoreline 400m-600m     238.829122    66.36\n",
      "Distance to Shoreline 600m-800m      27.169955    52.65\n",
      "Distance to Shoreline 800m-1200m    186.908186    79.20\n",
      "Distance to Shoreline 1200m-1600m   228.721443    60.75\n",
      "Distance to Shoreline 1600m-3200m   224.988365   256.35\n",
      "Distance to Shoreline 3200m-4000m    82.007618   102.21\n",
      "grand average effect period-1, 3520.5474180872943 at r=0.03, 105.61642254261882\n",
      "targetdf type: <class 'pandas.core.frame.DataFrame'>\n",
      "dist_avg_effects for period-1                                       effect_p1  d_count\n",
      "bayfront                           98896.420809      145\n",
      "wateraccess                        18810.010999      967\n",
      "Distance to Shoreline 0m-50m       41183.405537      368\n",
      "Distance to Shoreline 50m-75m      22446.339704      842\n",
      "Distance to Shoreline 75m-100m      8524.817866      792\n",
      "Distance to Shoreline 100m-150m     2248.823886     1390\n",
      "Distance to Shoreline 150m-200m   -11459.843459     1189\n",
      "Distance to Shoreline 200m-300m    11333.714441     2001\n",
      "Distance to Shoreline 300m-400m    22444.906040     1562\n",
      "Distance to Shoreline 400m-600m     5472.176768     2212\n",
      "Distance to Shoreline 600m-800m    -2765.577287     1755\n",
      "Distance to Shoreline 800m-1200m    5346.304208     2640\n",
      "Distance to Shoreline 1200m-1600m    629.756667     2025\n",
      "Distance to Shoreline 1600m-3200m  -3106.344839     8545\n",
      "Distance to Shoreline 3200m-4000m  -3409.909438     3407\n",
      "annual_dist_avg_effects for period-1, r=0.03                                      effect_p1  d_count\n",
      "bayfront                           2966.892624     4.35\n",
      "wateraccess                         564.300330    29.01\n",
      "Distance to Shoreline 0m-50m       1235.502166    11.04\n",
      "Distance to Shoreline 50m-75m       673.390191    25.26\n",
      "Distance to Shoreline 75m-100m      255.744536    23.76\n",
      "Distance to Shoreline 100m-150m      67.464717    41.70\n",
      "Distance to Shoreline 150m-200m    -343.795304    35.67\n",
      "Distance to Shoreline 200m-300m     340.011433    60.03\n",
      "Distance to Shoreline 300m-400m     673.347181    46.86\n",
      "Distance to Shoreline 400m-600m     164.165303    66.36\n",
      "Distance to Shoreline 600m-800m     -82.967319    52.65\n",
      "Distance to Shoreline 800m-1200m    160.389126    79.20\n",
      "Distance to Shoreline 1200m-1600m    18.892700    60.75\n",
      "Distance to Shoreline 1600m-3200m   -93.190345   256.35\n",
      "Distance to Shoreline 3200m-4000m  -102.297283   102.21\n"
     ]
    }
   ],
   "source": [
    "idata_obj.getAnnualWQAvgEffect()"
   ]
  },
  {
   "cell_type": "code",
   "execution_count": null,
   "metadata": {},
   "outputs": [],
   "source": []
  }
 ],
 "metadata": {
  "kernelspec": {
   "display_name": "Python 3",
   "language": "python",
   "name": "python3"
  },
  "language_info": {
   "codemirror_mode": {
    "name": "ipython",
    "version": 3
   },
   "file_extension": ".py",
   "mimetype": "text/x-python",
   "name": "python",
   "nbconvert_exporter": "python",
   "pygments_lexer": "ipython3",
   "version": "3.8.3"
  }
 },
 "nbformat": 4,
 "nbformat_minor": 4
}
