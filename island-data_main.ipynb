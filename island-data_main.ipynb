{
 "cells": [
  {
   "cell_type": "markdown",
   "metadata": {
    "slideshow": {
     "slide_type": "slide"
    }
   },
   "source": [
    "## Long Island Hedonic Analysis - Draft\n",
    "### Visualizing the data\n",
    "#### created by Doug Patton\n",
    "<br>\n",
    "If you run the notebook with matplotlib widgets turned on (and installed), you can rotate and zoom in on the 3d plots. "
   ]
  },
  {
   "cell_type": "code",
   "execution_count": 1,
   "metadata": {
    "slideshow": {
     "slide_type": "fragment"
    }
   },
   "outputs": [],
   "source": [
    "import island\n",
    "from datetime import date"
   ]
  },
  {
   "cell_type": "code",
   "execution_count": 2,
   "metadata": {},
   "outputs": [],
   "source": [
    "import numpy as np\n",
    "import pandas as pd"
   ]
  },
  {
   "cell_type": "code",
   "execution_count": 3,
   "metadata": {},
   "outputs": [],
   "source": [
    "#from importlib import reload  \n",
    "#reload(island)"
   ]
  },
  {
   "cell_type": "code",
   "execution_count": 4,
   "metadata": {
    "slideshow": {
     "slide_type": "fragment"
    }
   },
   "outputs": [],
   "source": [
    "%matplotlib inline\n",
    "#may be necessary to display plots inline on some systems\n",
    "#%pylab #interactive graphs in external window\n",
    "#%matplotlib widget #makes graphs interactive inline"
   ]
  },
  {
   "cell_type": "code",
   "execution_count": 5,
   "metadata": {
    "slideshow": {
     "slide_type": "fragment"
    }
   },
   "outputs": [],
   "source": [
    "idata_obj=island.IslandData()"
   ]
  },
  {
   "cell_type": "code",
   "execution_count": 6,
   "metadata": {},
   "outputs": [],
   "source": [
    "#idata_obj.getDataFromCSV() # run once"
   ]
  },
  {
   "cell_type": "code",
   "execution_count": 7,
   "metadata": {
    "slideshow": {
     "slide_type": "skip"
    }
   },
   "outputs": [],
   "source": [
    "#idata_obj.doCSVToDict() # run once"
   ]
  },
  {
   "cell_type": "code",
   "execution_count": 8,
   "metadata": {},
   "outputs": [],
   "source": [
    "idata_obj.makeTimeArrayList()"
   ]
  },
  {
   "cell_type": "code",
   "execution_count": 9,
   "metadata": {},
   "outputs": [],
   "source": [
    "#create new real version for each dollar variable using the CPI\n",
    "baseyear=2015\n",
    "idata_obj.addRealByCPI(to_year=baseyear)\n"
   ]
  },
  {
   "cell_type": "code",
   "execution_count": 10,
   "metadata": {},
   "outputs": [],
   "source": [
    "idata_obj.arrayListToPandasDF()"
   ]
  },
  {
   "cell_type": "code",
   "execution_count": 11,
   "metadata": {},
   "outputs": [
    {
     "name": "stderr",
     "output_type": "stream",
     "text": [
      "/home/dp/gits/island/island.py:111: FutureWarning: Passing a negative integer is deprecated in version 1.0 and will not be supported in future version. Instead, use None to not limit the column width.\n",
      "  pd.set_option('display.max_colwidth', -1)\n"
     ]
    }
   ],
   "source": [
    "idata_obj.printDFtoSumStats()"
   ]
  },
  {
   "cell_type": "code",
   "execution_count": 12,
   "metadata": {},
   "outputs": [
    {
     "data": {
      "text/plain": [
       "postsandy  sale_year  idx \n",
       "0          2002       0       390000\n",
       "                      1       650000\n",
       "                      2       262000\n",
       "                      3       231500\n",
       "                      4       215000\n",
       "                               ...  \n",
       "           2012       1483    269000\n",
       "                      1484    825000\n",
       "                      1485    230000\n",
       "                      1486    339000\n",
       "                      1487    380000\n",
       "Name: saleprice, Length: 23174, dtype: object"
      ]
     },
     "execution_count": 12,
     "metadata": {},
     "output_type": "execute_result"
    }
   ],
   "source": [
    "idata_obj.df.loc['0',:,:][:]['saleprice']"
   ]
  },
  {
   "cell_type": "code",
   "execution_count": null,
   "metadata": {},
   "outputs": [],
   "source": []
  },
  {
   "cell_type": "code",
   "execution_count": null,
   "metadata": {},
   "outputs": [],
   "source": []
  },
  {
   "cell_type": "code",
   "execution_count": 13,
   "metadata": {},
   "outputs": [
    {
     "data": {
      "text/plain": [
       "2006.5872529558987"
      ]
     },
     "execution_count": 13,
     "metadata": {},
     "output_type": "execute_result"
    }
   ],
   "source": [
    "idata_obj.df.loc['0']['sale_year'].astype(np.float64).mean()"
   ]
  },
  {
   "cell_type": "code",
   "execution_count": 14,
   "metadata": {},
   "outputs": [
    {
     "data": {
      "text/html": [
       "<div>\n",
       "<style scoped>\n",
       "    .dataframe tbody tr th:only-of-type {\n",
       "        vertical-align: middle;\n",
       "    }\n",
       "\n",
       "    .dataframe tbody tr th {\n",
       "        vertical-align: top;\n",
       "    }\n",
       "\n",
       "    .dataframe thead th {\n",
       "        text-align: right;\n",
       "    }\n",
       "</style>\n",
       "<table border=\"1\" class=\"dataframe\">\n",
       "  <thead>\n",
       "    <tr style=\"text-align: right;\">\n",
       "      <th></th>\n",
       "      <th></th>\n",
       "      <th></th>\n",
       "      <th>sale_year</th>\n",
       "      <th>saleprice</th>\n",
       "      <th>assessedvalue</th>\n",
       "      <th>postsandy</th>\n",
       "      <th>secchi</th>\n",
       "      <th>wqbayfront</th>\n",
       "      <th>wqwateraccess</th>\n",
       "      <th>wqwaterhouse</th>\n",
       "      <th>totalbathroomsedited</th>\n",
       "      <th>totallivingarea</th>\n",
       "      <th>...</th>\n",
       "      <th>shorelinedistancedv3_1000</th>\n",
       "      <th>shorelinedistancedv1000_2000</th>\n",
       "      <th>shorelinedistancedv2000_3000</th>\n",
       "      <th>shorelinedistancedv3000_4000</th>\n",
       "      <th>soldmorethanonceinyear</th>\n",
       "      <th>soldmorethanonceovertheyears</th>\n",
       "      <th>latitude</th>\n",
       "      <th>longitude</th>\n",
       "      <th>postsandy</th>\n",
       "      <th>idx</th>\n",
       "    </tr>\n",
       "    <tr>\n",
       "      <th>postsandy</th>\n",
       "      <th>sale_year</th>\n",
       "      <th>idx</th>\n",
       "      <th></th>\n",
       "      <th></th>\n",
       "      <th></th>\n",
       "      <th></th>\n",
       "      <th></th>\n",
       "      <th></th>\n",
       "      <th></th>\n",
       "      <th></th>\n",
       "      <th></th>\n",
       "      <th></th>\n",
       "      <th></th>\n",
       "      <th></th>\n",
       "      <th></th>\n",
       "      <th></th>\n",
       "      <th></th>\n",
       "      <th></th>\n",
       "      <th></th>\n",
       "      <th></th>\n",
       "      <th></th>\n",
       "      <th></th>\n",
       "      <th></th>\n",
       "    </tr>\n",
       "  </thead>\n",
       "  <tbody>\n",
       "    <tr>\n",
       "      <th rowspan=\"5\" valign=\"top\">0</th>\n",
       "      <th rowspan=\"5\" valign=\"top\">2002</th>\n",
       "      <th>0</th>\n",
       "      <td>2002</td>\n",
       "      <td>390000</td>\n",
       "      <td>391200</td>\n",
       "      <td>0</td>\n",
       "      <td>1.666667</td>\n",
       "      <td>0</td>\n",
       "      <td>0</td>\n",
       "      <td>0</td>\n",
       "      <td>3</td>\n",
       "      <td>2945</td>\n",
       "      <td>...</td>\n",
       "      <td>1</td>\n",
       "      <td>0</td>\n",
       "      <td>0</td>\n",
       "      <td>0</td>\n",
       "      <td>0</td>\n",
       "      <td>0</td>\n",
       "      <td>40.63544</td>\n",
       "      <td>-73.72381</td>\n",
       "      <td>0</td>\n",
       "      <td>0</td>\n",
       "    </tr>\n",
       "    <tr>\n",
       "      <th>1</th>\n",
       "      <td>2002</td>\n",
       "      <td>650000</td>\n",
       "      <td>728000</td>\n",
       "      <td>0</td>\n",
       "      <td>2.25062</td>\n",
       "      <td>0</td>\n",
       "      <td>0</td>\n",
       "      <td>0</td>\n",
       "      <td>3.5</td>\n",
       "      <td>4240</td>\n",
       "      <td>...</td>\n",
       "      <td>1</td>\n",
       "      <td>0</td>\n",
       "      <td>0</td>\n",
       "      <td>0</td>\n",
       "      <td>0</td>\n",
       "      <td>0</td>\n",
       "      <td>40.60864</td>\n",
       "      <td>-73.73049</td>\n",
       "      <td>0</td>\n",
       "      <td>1</td>\n",
       "    </tr>\n",
       "    <tr>\n",
       "      <th>2</th>\n",
       "      <td>2002</td>\n",
       "      <td>262000</td>\n",
       "      <td>228800</td>\n",
       "      <td>0</td>\n",
       "      <td>2.111111</td>\n",
       "      <td>0</td>\n",
       "      <td>0</td>\n",
       "      <td>0</td>\n",
       "      <td>2</td>\n",
       "      <td>1716</td>\n",
       "      <td>...</td>\n",
       "      <td>1</td>\n",
       "      <td>0</td>\n",
       "      <td>0</td>\n",
       "      <td>0</td>\n",
       "      <td>0</td>\n",
       "      <td>1</td>\n",
       "      <td>40.64994</td>\n",
       "      <td>-73.5948</td>\n",
       "      <td>0</td>\n",
       "      <td>2</td>\n",
       "    </tr>\n",
       "    <tr>\n",
       "      <th>3</th>\n",
       "      <td>2002</td>\n",
       "      <td>231500</td>\n",
       "      <td>255600</td>\n",
       "      <td>0</td>\n",
       "      <td>2.111111</td>\n",
       "      <td>0</td>\n",
       "      <td>0</td>\n",
       "      <td>0</td>\n",
       "      <td>1</td>\n",
       "      <td>1600</td>\n",
       "      <td>...</td>\n",
       "      <td>0</td>\n",
       "      <td>1</td>\n",
       "      <td>0</td>\n",
       "      <td>0</td>\n",
       "      <td>0</td>\n",
       "      <td>1</td>\n",
       "      <td>40.66046</td>\n",
       "      <td>-73.61769</td>\n",
       "      <td>0</td>\n",
       "      <td>3</td>\n",
       "    </tr>\n",
       "    <tr>\n",
       "      <th>4</th>\n",
       "      <td>2002</td>\n",
       "      <td>215000</td>\n",
       "      <td>202400</td>\n",
       "      <td>0</td>\n",
       "      <td>2.111111</td>\n",
       "      <td>0</td>\n",
       "      <td>0</td>\n",
       "      <td>0</td>\n",
       "      <td>1</td>\n",
       "      <td>1104</td>\n",
       "      <td>...</td>\n",
       "      <td>0</td>\n",
       "      <td>1</td>\n",
       "      <td>0</td>\n",
       "      <td>0</td>\n",
       "      <td>0</td>\n",
       "      <td>1</td>\n",
       "      <td>40.66553</td>\n",
       "      <td>-73.57406</td>\n",
       "      <td>0</td>\n",
       "      <td>4</td>\n",
       "    </tr>\n",
       "    <tr>\n",
       "      <th>...</th>\n",
       "      <th>...</th>\n",
       "      <th>...</th>\n",
       "      <td>...</td>\n",
       "      <td>...</td>\n",
       "      <td>...</td>\n",
       "      <td>...</td>\n",
       "      <td>...</td>\n",
       "      <td>...</td>\n",
       "      <td>...</td>\n",
       "      <td>...</td>\n",
       "      <td>...</td>\n",
       "      <td>...</td>\n",
       "      <td>...</td>\n",
       "      <td>...</td>\n",
       "      <td>...</td>\n",
       "      <td>...</td>\n",
       "      <td>...</td>\n",
       "      <td>...</td>\n",
       "      <td>...</td>\n",
       "      <td>...</td>\n",
       "      <td>...</td>\n",
       "      <td>...</td>\n",
       "      <td>...</td>\n",
       "    </tr>\n",
       "    <tr>\n",
       "      <th rowspan=\"5\" valign=\"top\">1</th>\n",
       "      <th rowspan=\"5\" valign=\"top\">2015</th>\n",
       "      <th>4351</th>\n",
       "      <td>2015</td>\n",
       "      <td>582000</td>\n",
       "      <td>445600</td>\n",
       "      <td>1</td>\n",
       "      <td>2.5</td>\n",
       "      <td>0</td>\n",
       "      <td>0</td>\n",
       "      <td>0</td>\n",
       "      <td>1.5</td>\n",
       "      <td>1780</td>\n",
       "      <td>...</td>\n",
       "      <td>1</td>\n",
       "      <td>0</td>\n",
       "      <td>0</td>\n",
       "      <td>0</td>\n",
       "      <td>0</td>\n",
       "      <td>1</td>\n",
       "      <td>40.65669</td>\n",
       "      <td>-73.49053</td>\n",
       "      <td>1</td>\n",
       "      <td>4351</td>\n",
       "    </tr>\n",
       "    <tr>\n",
       "      <th>4352</th>\n",
       "      <td>2015</td>\n",
       "      <td>446000</td>\n",
       "      <td>474400</td>\n",
       "      <td>1</td>\n",
       "      <td>2.5</td>\n",
       "      <td>0</td>\n",
       "      <td>0</td>\n",
       "      <td>0</td>\n",
       "      <td>3</td>\n",
       "      <td>1386</td>\n",
       "      <td>...</td>\n",
       "      <td>1</td>\n",
       "      <td>0</td>\n",
       "      <td>0</td>\n",
       "      <td>0</td>\n",
       "      <td>0</td>\n",
       "      <td>1</td>\n",
       "      <td>40.65466</td>\n",
       "      <td>-73.4917</td>\n",
       "      <td>1</td>\n",
       "      <td>4352</td>\n",
       "    </tr>\n",
       "    <tr>\n",
       "      <th>4353</th>\n",
       "      <td>2015</td>\n",
       "      <td>446000</td>\n",
       "      <td>474400</td>\n",
       "      <td>1</td>\n",
       "      <td>2.5</td>\n",
       "      <td>0</td>\n",
       "      <td>0</td>\n",
       "      <td>0</td>\n",
       "      <td>3</td>\n",
       "      <td>1386</td>\n",
       "      <td>...</td>\n",
       "      <td>1</td>\n",
       "      <td>0</td>\n",
       "      <td>0</td>\n",
       "      <td>0</td>\n",
       "      <td>0</td>\n",
       "      <td>1</td>\n",
       "      <td>40.65466</td>\n",
       "      <td>-73.4917</td>\n",
       "      <td>1</td>\n",
       "      <td>4353</td>\n",
       "    </tr>\n",
       "    <tr>\n",
       "      <th>4354</th>\n",
       "      <td>2015</td>\n",
       "      <td>430000</td>\n",
       "      <td>420800</td>\n",
       "      <td>1</td>\n",
       "      <td>2.5</td>\n",
       "      <td>0</td>\n",
       "      <td>0</td>\n",
       "      <td>0</td>\n",
       "      <td>1.5</td>\n",
       "      <td>1872</td>\n",
       "      <td>...</td>\n",
       "      <td>1</td>\n",
       "      <td>0</td>\n",
       "      <td>0</td>\n",
       "      <td>0</td>\n",
       "      <td>0</td>\n",
       "      <td>1</td>\n",
       "      <td>40.65663</td>\n",
       "      <td>-73.48874</td>\n",
       "      <td>1</td>\n",
       "      <td>4354</td>\n",
       "    </tr>\n",
       "    <tr>\n",
       "      <th>4355</th>\n",
       "      <td>2015</td>\n",
       "      <td>460000</td>\n",
       "      <td>282800</td>\n",
       "      <td>1</td>\n",
       "      <td>2.5</td>\n",
       "      <td>0</td>\n",
       "      <td>0</td>\n",
       "      <td>0</td>\n",
       "      <td>1.5</td>\n",
       "      <td>1571</td>\n",
       "      <td>...</td>\n",
       "      <td>1</td>\n",
       "      <td>0</td>\n",
       "      <td>0</td>\n",
       "      <td>0</td>\n",
       "      <td>0</td>\n",
       "      <td>1</td>\n",
       "      <td>40.65523</td>\n",
       "      <td>-73.48867</td>\n",
       "      <td>1</td>\n",
       "      <td>4355</td>\n",
       "    </tr>\n",
       "  </tbody>\n",
       "</table>\n",
       "<p>31973 rows × 39 columns</p>\n",
       "</div>"
      ],
      "text/plain": [
       "                          sale_year  saleprice  assessedvalue postsandy  \\\n",
       "postsandy sale_year idx                                                   \n",
       "0         2002      0     2002       390000     391200         0          \n",
       "                    1     2002       650000     728000         0          \n",
       "                    2     2002       262000     228800         0          \n",
       "                    3     2002       231500     255600         0          \n",
       "                    4     2002       215000     202400         0          \n",
       "...                        ...          ...        ...        ..          \n",
       "1         2015      4351  2015       582000     445600         1          \n",
       "                    4352  2015       446000     474400         1          \n",
       "                    4353  2015       446000     474400         1          \n",
       "                    4354  2015       430000     420800         1          \n",
       "                    4355  2015       460000     282800         1          \n",
       "\n",
       "                            secchi wqbayfront wqwateraccess wqwaterhouse  \\\n",
       "postsandy sale_year idx                                                    \n",
       "0         2002      0     1.666667  0          0             0             \n",
       "                    1     2.25062   0          0             0             \n",
       "                    2     2.111111  0          0             0             \n",
       "                    3     2.111111  0          0             0             \n",
       "                    4     2.111111  0          0             0             \n",
       "...                            ... ..         ..            ..             \n",
       "1         2015      4351  2.5       0          0             0             \n",
       "                    4352  2.5       0          0             0             \n",
       "                    4353  2.5       0          0             0             \n",
       "                    4354  2.5       0          0             0             \n",
       "                    4355  2.5       0          0             0             \n",
       "\n",
       "                         totalbathroomsedited totallivingarea  ...  \\\n",
       "postsandy sale_year idx                                        ...   \n",
       "0         2002      0     3                    2945            ...   \n",
       "                    1     3.5                  4240            ...   \n",
       "                    2     2                    1716            ...   \n",
       "                    3     1                    1600            ...   \n",
       "                    4     1                    1104            ...   \n",
       "...                      ..                     ...            ...   \n",
       "1         2015      4351  1.5                  1780            ...   \n",
       "                    4352  3                    1386            ...   \n",
       "                    4353  3                    1386            ...   \n",
       "                    4354  1.5                  1872            ...   \n",
       "                    4355  1.5                  1571            ...   \n",
       "\n",
       "                         shorelinedistancedv3_1000  \\\n",
       "postsandy sale_year idx                              \n",
       "0         2002      0     1                          \n",
       "                    1     1                          \n",
       "                    2     1                          \n",
       "                    3     0                          \n",
       "                    4     0                          \n",
       "...                      ..                          \n",
       "1         2015      4351  1                          \n",
       "                    4352  1                          \n",
       "                    4353  1                          \n",
       "                    4354  1                          \n",
       "                    4355  1                          \n",
       "\n",
       "                         shorelinedistancedv1000_2000  \\\n",
       "postsandy sale_year idx                                 \n",
       "0         2002      0     0                             \n",
       "                    1     0                             \n",
       "                    2     0                             \n",
       "                    3     1                             \n",
       "                    4     1                             \n",
       "...                      ..                             \n",
       "1         2015      4351  0                             \n",
       "                    4352  0                             \n",
       "                    4353  0                             \n",
       "                    4354  0                             \n",
       "                    4355  0                             \n",
       "\n",
       "                         shorelinedistancedv2000_3000  \\\n",
       "postsandy sale_year idx                                 \n",
       "0         2002      0     0                             \n",
       "                    1     0                             \n",
       "                    2     0                             \n",
       "                    3     0                             \n",
       "                    4     0                             \n",
       "...                      ..                             \n",
       "1         2015      4351  0                             \n",
       "                    4352  0                             \n",
       "                    4353  0                             \n",
       "                    4354  0                             \n",
       "                    4355  0                             \n",
       "\n",
       "                         shorelinedistancedv3000_4000 soldmorethanonceinyear  \\\n",
       "postsandy sale_year idx                                                        \n",
       "0         2002      0     0                            0                       \n",
       "                    1     0                            0                       \n",
       "                    2     0                            0                       \n",
       "                    3     0                            0                       \n",
       "                    4     0                            0                       \n",
       "...                      ..                           ..                       \n",
       "1         2015      4351  0                            0                       \n",
       "                    4352  0                            0                       \n",
       "                    4353  0                            0                       \n",
       "                    4354  0                            0                       \n",
       "                    4355  0                            0                       \n",
       "\n",
       "                         soldmorethanonceovertheyears  latitude  longitude  \\\n",
       "postsandy sale_year idx                                                      \n",
       "0         2002      0     0                            40.63544  -73.72381   \n",
       "                    1     0                            40.60864  -73.73049   \n",
       "                    2     1                            40.64994  -73.5948    \n",
       "                    3     1                            40.66046  -73.61769   \n",
       "                    4     1                            40.66553  -73.57406   \n",
       "...                      ..                                 ...        ...   \n",
       "1         2015      4351  1                            40.65669  -73.49053   \n",
       "                    4352  1                            40.65466  -73.4917    \n",
       "                    4353  1                            40.65466  -73.4917    \n",
       "                    4354  1                            40.65663  -73.48874   \n",
       "                    4355  1                            40.65523  -73.48867   \n",
       "\n",
       "                         postsandy   idx  \n",
       "postsandy sale_year idx                   \n",
       "0         2002      0     0         0     \n",
       "                    1     0         1     \n",
       "                    2     0         2     \n",
       "                    3     0         3     \n",
       "                    4     0         4     \n",
       "...                      ..        ..     \n",
       "1         2015      4351  1         4351  \n",
       "                    4352  1         4352  \n",
       "                    4353  1         4353  \n",
       "                    4354  1         4354  \n",
       "                    4355  1         4355  \n",
       "\n",
       "[31973 rows x 39 columns]"
      ]
     },
     "execution_count": 14,
     "metadata": {},
     "output_type": "execute_result"
    }
   ],
   "source": [
    "idata_obj.df.astype({'sale_year':np.int32,'saleprice':'int32','assessedvalue':'int32','wateraccess':np.int32},copy=False)"
   ]
  },
  {
   "cell_type": "code",
   "execution_count": 15,
   "metadata": {},
   "outputs": [
    {
     "data": {
      "text/plain": [
       "sale_year                         object\n",
       "saleprice                         object\n",
       "assessedvalue                     object\n",
       "postsandy                         object\n",
       "secchi                            object\n",
       "wqbayfront                        object\n",
       "wqwateraccess                     object\n",
       "wqwaterhouse                      object\n",
       "totalbathroomsedited              object\n",
       "totallivingarea                   object\n",
       "saleacres                         object\n",
       "distance_park                     object\n",
       "distance_nyc                      object\n",
       "distance_golf                     object\n",
       "wqshorelinedistancedv3_1000       object\n",
       "wqshorelinedistancedv1000_2000    object\n",
       "wqshorelinedistancedv2000_3000    object\n",
       "wqshorelinedistancedv3000_4000    object\n",
       "education                         object\n",
       "income                            object\n",
       "povertylevel                      object\n",
       "pct_white                         object\n",
       "pct_asian                         object\n",
       "pct_black                         object\n",
       "bayfront                          object\n",
       "wateraccess                       object\n",
       "waterhouse                        object\n",
       "shorelinedistance                 object\n",
       "distance_shoreline                object\n",
       "shorelinedistancedv3_1000         object\n",
       "shorelinedistancedv1000_2000      object\n",
       "shorelinedistancedv2000_3000      object\n",
       "shorelinedistancedv3000_4000      object\n",
       "soldmorethanonceinyear            object\n",
       "soldmorethanonceovertheyears      object\n",
       "latitude                          object\n",
       "longitude                         object\n",
       "postsandy                         object\n",
       "idx                               object\n",
       "dtype: object"
      ]
     },
     "execution_count": 15,
     "metadata": {},
     "output_type": "execute_result"
    }
   ],
   "source": [
    "idata_obj.df.dtypes"
   ]
  },
  {
   "cell_type": "code",
   "execution_count": 16,
   "metadata": {},
   "outputs": [
    {
     "data": {
      "text/plain": [
       "Index(['0', '1'], dtype='object', name='postsandy')"
      ]
     },
     "execution_count": 16,
     "metadata": {},
     "output_type": "execute_result"
    }
   ],
   "source": [
    "idata_obj.df.index.levels[0]\n"
   ]
  },
  {
   "cell_type": "code",
   "execution_count": 17,
   "metadata": {},
   "outputs": [
    {
     "data": {
      "text/plain": [
       "'{\"count\":23174.0,\"mean\":1.8327450659,\"std\":0.4558970055,\"min\":0.6018543,\"25%\":1.481468,\"50%\":1.83688,\"75%\":2.13210125,\"max\":4.109069}'"
      ]
     },
     "execution_count": 17,
     "metadata": {},
     "output_type": "execute_result"
    }
   ],
   "source": [
    "test=idata_obj.df.loc['0']['secchi'].astype(np.float64).describe(include='all')\n",
    "type(test)\n",
    "test.to_json()"
   ]
  },
  {
   "cell_type": "code",
   "execution_count": 18,
   "metadata": {},
   "outputs": [],
   "source": [
    "test=idata_obj.df.describe(include='all').to_html()\n",
    "with open('test.html', 'w') as f:\n",
    "    f.write(test)"
   ]
  }
 ],
 "metadata": {
  "kernelspec": {
   "display_name": "Python 3",
   "language": "python",
   "name": "python3"
  },
  "language_info": {
   "codemirror_mode": {
    "name": "ipython",
    "version": 3
   },
   "file_extension": ".py",
   "mimetype": "text/x-python",
   "name": "python",
   "nbconvert_exporter": "python",
   "pygments_lexer": "ipython3",
   "version": "3.7.6"
  }
 },
 "nbformat": 4,
 "nbformat_minor": 4
}
