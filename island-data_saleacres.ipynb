{
 "cells": [
  {
   "cell_type": "markdown",
   "metadata": {
    "slideshow": {
     "slide_type": "slide"
    }
   },
   "source": [
    "## Long Island Hedonic Analysis - Draft\n",
    "### Visualizing the data\n",
    "#### created by Doug Patton\n",
    "<br>\n",
    "If you run the notebook with matplotlib widgets turned on (and installed), you can rotate and zoom in on the 3d plots. "
   ]
  },
  {
   "cell_type": "code",
   "execution_count": 1,
   "metadata": {
    "slideshow": {
     "slide_type": "fragment"
    }
   },
   "outputs": [],
   "source": [
    "import island\n",
    "from datetime import date"
   ]
  },
  {
   "cell_type": "code",
   "execution_count": 2,
   "metadata": {},
   "outputs": [],
   "source": [
    "#from importlib import reload  \n",
    "#reload(island)"
   ]
  },
  {
   "cell_type": "code",
   "execution_count": 3,
   "metadata": {
    "slideshow": {
     "slide_type": "fragment"
    }
   },
   "outputs": [],
   "source": [
    "%matplotlib inline\n",
    "#may be necessary to display plots inline on some systems\n",
    "#%pylab #interactive graphs in external window\n",
    "#%matplotlib widget #makes graphs interactive inline"
   ]
  },
  {
   "cell_type": "code",
   "execution_count": 4,
   "metadata": {
    "slideshow": {
     "slide_type": "fragment"
    }
   },
   "outputs": [],
   "source": [
    "idata_obj=island.IslandData(dpi=200)"
   ]
  },
  {
   "cell_type": "code",
   "execution_count": 5,
   "metadata": {},
   "outputs": [],
   "source": [
    "TSHistvarlist=[\n",
    "            'saleacres',\n",
    "            ]"
   ]
  },
  {
   "cell_type": "code",
   "execution_count": 6,
   "metadata": {},
   "outputs": [],
   "source": [
    "#idata_obj.getDataFromCSV()"
   ]
  },
  {
   "cell_type": "code",
   "execution_count": 7,
   "metadata": {
    "slideshow": {
     "slide_type": "skip"
    }
   },
   "outputs": [],
   "source": [
    "#idata_obj.doCSVToDict()"
   ]
  },
  {
   "cell_type": "code",
   "execution_count": 8,
   "metadata": {},
   "outputs": [],
   "source": [
    "idata_obj.makeTimeListArrayList()"
   ]
  },
  {
   "cell_type": "markdown",
   "metadata": {
    "slideshow": {
     "slide_type": "fragment"
    }
   },
   "source": [
    "# Data\n",
    "## sample size (sales volume) over time\n",
    "\n",
    "- Observations: \n",
    "   - The volume of real estate transactions matches the broader economy and is perhaps a leading (rather than trailing) economic indicator\n",
    "   - 2005 and 2015 seem to have quite a bit in common. It would be interesting to just compare data for those 2 years.\n",
    "   - 2002 must be incomplete, any year dummies for that year might be biased if incompleteness not random. don't use 2002 as the excluded dummy\n",
    "   \n",
    "   \\pagebreak\n",
    "   \n",
    "   "
   ]
  },
  {
   "cell_type": "code",
   "execution_count": 9,
   "metadata": {
    "slideshow": {
     "slide_type": "subslide"
    }
   },
   "outputs": [
    {
     "ename": "TypeError",
     "evalue": "list indices must be integers or slices, not tuple",
     "output_type": "error",
     "traceback": [
      "\u001b[0;31m---------------------------------------------------------------------------\u001b[0m",
      "\u001b[0;31mTypeError\u001b[0m                                 Traceback (most recent call last)",
      "\u001b[0;32m<ipython-input-9-196c5c2b4f9e>\u001b[0m in \u001b[0;36m<module>\u001b[0;34m\u001b[0m\n\u001b[0;32m----> 1\u001b[0;31m \u001b[0midata_obj\u001b[0m\u001b[0;34m.\u001b[0m\u001b[0mmakeTSHistogram\u001b[0m\u001b[0;34m(\u001b[0m\u001b[0mvarlist\u001b[0m\u001b[0;34m=\u001b[0m\u001b[0mTSHistvarlist\u001b[0m\u001b[0;34m[\u001b[0m\u001b[0;36m0\u001b[0m\u001b[0;34m:\u001b[0m\u001b[0;36m1\u001b[0m\u001b[0;34m]\u001b[0m\u001b[0;34m)\u001b[0m\u001b[0;34m\u001b[0m\u001b[0;34m\u001b[0m\u001b[0m\n\u001b[0m",
      "\u001b[0;32m~/gits/island/island.py\u001b[0m in \u001b[0;36mmakeTSHistogram\u001b[0;34m(self, varlist, combined)\u001b[0m\n\u001b[1;32m    248\u001b[0m                 \u001b[0;32mfor\u001b[0m \u001b[0mnorm_hist\u001b[0m \u001b[0;32min\u001b[0m \u001b[0;34m[\u001b[0m\u001b[0;36m0\u001b[0m\u001b[0;34m,\u001b[0m\u001b[0;36m1\u001b[0m\u001b[0;34m]\u001b[0m\u001b[0;34m:\u001b[0m\u001b[0;34m\u001b[0m\u001b[0;34m\u001b[0m\u001b[0m\n\u001b[1;32m    249\u001b[0m \u001b[0;34m\u001b[0m\u001b[0m\n\u001b[0;32m--> 250\u001b[0;31m                     fig,histdict=self.my3dHistogram([nparray[:,var_idx] for nparray in timelist_arraylist],\n\u001b[0m\u001b[1;32m    251\u001b[0m                                                     var,self.timelist,subplot_idx=subplot_idx,fig=fig,norm_hist=norm_hist)\n\u001b[1;32m    252\u001b[0m                     \u001b[0mself\u001b[0m\u001b[0;34m.\u001b[0m\u001b[0mTSHistogramlist\u001b[0m\u001b[0;34m.\u001b[0m\u001b[0mappend\u001b[0m\u001b[0;34m(\u001b[0m\u001b[0;34m{\u001b[0m\u001b[0;34m'histTS'\u001b[0m\u001b[0;34m:\u001b[0m\u001b[0mhistdict\u001b[0m\u001b[0;34m}\u001b[0m\u001b[0;34m)\u001b[0m\u001b[0;34m\u001b[0m\u001b[0;34m\u001b[0m\u001b[0m\n",
      "\u001b[0;32m~/gits/island/island.py\u001b[0m in \u001b[0;36m<listcomp>\u001b[0;34m(.0)\u001b[0m\n\u001b[1;32m    248\u001b[0m                 \u001b[0;32mfor\u001b[0m \u001b[0mnorm_hist\u001b[0m \u001b[0;32min\u001b[0m \u001b[0;34m[\u001b[0m\u001b[0;36m0\u001b[0m\u001b[0;34m,\u001b[0m\u001b[0;36m1\u001b[0m\u001b[0;34m]\u001b[0m\u001b[0;34m:\u001b[0m\u001b[0;34m\u001b[0m\u001b[0;34m\u001b[0m\u001b[0m\n\u001b[1;32m    249\u001b[0m \u001b[0;34m\u001b[0m\u001b[0m\n\u001b[0;32m--> 250\u001b[0;31m                     fig,histdict=self.my3dHistogram([nparray[:,var_idx] for nparray in timelist_arraylist],\n\u001b[0m\u001b[1;32m    251\u001b[0m                                                     var,self.timelist,subplot_idx=subplot_idx,fig=fig,norm_hist=norm_hist)\n\u001b[1;32m    252\u001b[0m                     \u001b[0mself\u001b[0m\u001b[0;34m.\u001b[0m\u001b[0mTSHistogramlist\u001b[0m\u001b[0;34m.\u001b[0m\u001b[0mappend\u001b[0m\u001b[0;34m(\u001b[0m\u001b[0;34m{\u001b[0m\u001b[0;34m'histTS'\u001b[0m\u001b[0;34m:\u001b[0m\u001b[0mhistdict\u001b[0m\u001b[0;34m}\u001b[0m\u001b[0;34m)\u001b[0m\u001b[0;34m\u001b[0m\u001b[0;34m\u001b[0m\u001b[0m\n",
      "\u001b[0;31mTypeError\u001b[0m: list indices must be integers or slices, not tuple"
     ]
    },
    {
     "data": {
      "text/plain": [
       "<Figure size 4000x2000 with 0 Axes>"
      ]
     },
     "metadata": {},
     "output_type": "display_data"
    }
   ],
   "source": [
    "idata_obj.makeTSHistogram(varlist=TSHistvarlist[0:1])"
   ]
  },
  {
   "cell_type": "markdown",
   "metadata": {
    "slideshow": {
     "slide_type": "fragment"
    }
   },
   "source": [
    "## time series histograms\n",
    "***Zoom in to see detail***\n",
    "\n",
    "### dollar values\n",
    "#### for this graph and the graphs below:\n",
    "\n",
    "the graph on the left is a regular histogram and height of the bars is the count of items in that bin. Years with many observations tend to have taller bars for any particular bin<br>\n",
    "the graph on the right is normalized so that the height of the bins is not affected by that year's total count. <br>\n",
    "\n",
    "- Observations: \n",
    "   - The data looks good, no red flags here.\n",
    "   - looks like a log-normal distribution\n",
    "   - if we put unweighted data (left graph) into the model, observations from 2005 and 2015 will have a relatively large impact on the results. (see first 2d bar chart)\n",
    "   - saleprice vs assessed value:\n",
    "     - it's somewhat hard to see with this particular static rotation of the graph but comparing 2015 (but any year works) normalized saleprice (topright) to assessed value (bottom right), the right side of the sale price distribution is fat, suggesting perhaps that assessors undervalue a lot of higher value homes. The values scales are slightly different, but I don't think that is driving the difference. Assessed values should be a lot like an average value and homes that deviate fron average positively can do so without bound, so predictions woud tend to undervalue much more than overvalue. \n",
    "     - if assessed values are based on previous sale values rather than house characteristics, the relative fatness of the right tail of the salesprice distributions is more surprising. \n",
    "     - It would be interesting to model the difference between the sales price and the assessed price as the dependent variable. That will be easy to try.\n",
    "     \n",
    "   \\pagebreak\n",
    "   \n",
    "   \n",
    "     "
   ]
  }
 ],
 "metadata": {
  "kernelspec": {
   "display_name": "Python 3",
   "language": "python",
   "name": "python3"
  },
  "language_info": {
   "codemirror_mode": {
    "name": "ipython",
    "version": 3
   },
   "file_extension": ".py",
   "mimetype": "text/x-python",
   "name": "python",
   "nbconvert_exporter": "python",
   "pygments_lexer": "ipython3",
   "version": "3.7.6"
  }
 },
 "nbformat": 4,
 "nbformat_minor": 4
}
